{
 "cells": [
  {
   "cell_type": "code",
   "execution_count": null,
   "id": "83ae0daa-28d5-457e-b716-b23a6e4ef654",
   "metadata": {},
   "outputs": [],
   "source": [
    "Given that the variances of two populations are σ1^2 = 10 and σ2^2 = 15, \n",
    "and we have collected 12 samples from each population. We want to conduct \n",
    "an F-test to determine whether the variances of the two populations are\n",
    "significantly different at a 5% significance level.\n",
    "\n",
    "Let's denote the sample variances as s1^2 and s2^2, respectively, and \n",
    "the sample sizes as n1 = n2 = 12. The null hypothesis for the F-test is \n",
    "that the variances are equal, i.e., H0: σ1^2 = σ2^2, and the alternative \n",
    "hypothesis is that they are not equal, i.e., Ha: σ1^2 ≠ σ2^2.\n",
    "\n",
    "The F-statistic is calculated as:\n",
    "\n",
    "F = s1^2 / s2^2\n",
    "\n",
    "Under the null hypothesis, the F-statistic follows an F-distribution\n",
    "with (n1 - 1) = 11 degrees of freedom in the numerator and (n2 - 1) = 11 \n",
    "degrees of freedom in the denominator.\n",
    "\n",
    "To determine the critical value of F at a 5% significance level, \n",
    "we can use an F-distribution table with 11 degrees of freedom in \n",
    "the numerator and 11 degrees of freedom in the denominator.\n",
    "From the table, we find that the critical value of F at a 5% significance level is 2.54.\n",
    "\n",
    "Now, we can calculate the F-statistic:\n",
    "\n",
    "F = s1^2 / s2^2 = 10 / 15 = 0.67\n",
    "\n",
    "Since the calculated F-value (0.67) is less than the \n",
    "critical value of F (2.54), we fail to reject the null hypothesis.\n",
    "Therefore, we can conclude that there is not enough evidence to suggest that \n",
    "the variances of the two populations are significantly different at a 5% significance level.\n",
    "\n",
    "In other words, we cannot conclude that the variances are different\n",
    "with a 95% confidence level based on the samples collected from each population"
   ]
  }
 ],
 "metadata": {
  "kernelspec": {
   "display_name": "Python 3 (ipykernel)",
   "language": "python",
   "name": "python3"
  },
  "language_info": {
   "codemirror_mode": {
    "name": "ipython",
    "version": 3
   },
   "file_extension": ".py",
   "mimetype": "text/x-python",
   "name": "python",
   "nbconvert_exporter": "python",
   "pygments_lexer": "ipython3",
   "version": "3.10.8"
  }
 },
 "nbformat": 4,
 "nbformat_minor": 5
}
