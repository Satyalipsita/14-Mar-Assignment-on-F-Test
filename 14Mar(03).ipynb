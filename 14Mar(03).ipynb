{
 "cells": [
  {
   "cell_type": "code",
   "execution_count": 1,
   "id": "fd0a4ae4-9fcd-4db3-9013-979a13af2246",
   "metadata": {},
   "outputs": [
    {
     "name": "stdout",
     "output_type": "stream",
     "text": [
      "p-value: 0.012963705346905005\n",
      "F-value: 3.787660754439279\n",
      "Degrees of freedom (numerator, denominator): 9 14\n",
      "Reject null hypothesis of equal variances\n"
     ]
    }
   ],
   "source": [
    "import numpy as np\n",
    "from scipy.stats import f\n",
    "\n",
    "def equal_variance_test(x, y, alpha):\n",
    "    n = len(x)\n",
    "    m = len(y)\n",
    "    if n < 2 or m < 2:\n",
    "        raise ValueError(\"Input arrays must have length greater than 1\")\n",
    "    var_x = 2.0\n",
    "    var_y = 2.0\n",
    "    F = np.var(x) / np.var(y)\n",
    "    df1 = n - 1\n",
    "    df2 = m - 1\n",
    "    p_value = f.sf(F, df1, df2)\n",
    "    if p_value > alpha:\n",
    "        print(\"p-value:\", p_value)\n",
    "        print(\"F-value:\", F)\n",
    "        print(\"Degrees of freedom (numerator, denominator):\", df1, df2)\n",
    "        print(\"Cannot reject null hypothesis of equal variances\")\n",
    "    else:\n",
    "        print(\"p-value:\", p_value)\n",
    "        print(\"F-value:\", F)\n",
    "        print(\"Degrees of freedom (numerator, denominator):\", df1, df2)\n",
    "        print(\"Reject null hypothesis of equal variances\")\n",
    "\n",
    "# Example usage\n",
    "alpha = 0.05\n",
    "x = np.random.normal(loc=0, scale=np.sqrt(2), size=10)\n",
    "y = np.random.normal(loc=0, scale=np.sqrt(2), size=15)\n",
    "equal_variance_test(x, y, alpha)\n"
   ]
  },
  {
   "cell_type": "code",
   "execution_count": null,
   "id": "344ed1f4-bc4b-4790-aa2a-2371510f9aa3",
   "metadata": {},
   "outputs": [],
   "source": []
  }
 ],
 "metadata": {
  "kernelspec": {
   "display_name": "Python 3 (ipykernel)",
   "language": "python",
   "name": "python3"
  },
  "language_info": {
   "codemirror_mode": {
    "name": "ipython",
    "version": 3
   },
   "file_extension": ".py",
   "mimetype": "text/x-python",
   "name": "python",
   "nbconvert_exporter": "python",
   "pygments_lexer": "ipython3",
   "version": "3.10.8"
  }
 },
 "nbformat": 4,
 "nbformat_minor": 5
}
