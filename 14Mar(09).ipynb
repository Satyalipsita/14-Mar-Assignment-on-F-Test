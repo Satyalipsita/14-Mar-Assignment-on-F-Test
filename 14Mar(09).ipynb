{
 "cells": [
  {
   "cell_type": "code",
   "execution_count": null,
   "id": "7f5f9f09-a8de-46be-a5ee-44110016a0c4",
   "metadata": {},
   "outputs": [],
   "source": [
    "To conduct an F-test to determine if the variances of \n",
    "two populations are equal or not, we need to compare\n",
    "the sample variances using an F-test. The null hypothesis for this F-test is that the population variances are equal, and the alternative hypothesis is that they are not equal.\n",
    "\n",
    "Let's denote the sample variances of sample A and B \n",
    "as s1^2 and s2^2, respectively. We need to calculate the F-statistic as:\n",
    "\n",
    "F = s1^2 / s2^2\n",
    "\n",
    "We are given the following samples:\n",
    "\n",
    "A: 80, 85, 90, 92, 87, 83\n",
    "B: 75, 78, 82, 79, 81, 84\n",
    "\n",
    "We first need to calculate the sample variances:\n",
    "\n",
    "s1^2 = ((80-87.83)^2 + (85-87.83)^2 + (90-87.83)^2 + (92-87.83)^2 + (87-87.83)^2 + (83-87.83)^2) / 5\n",
    "= 24.30\n",
    "\n",
    "s2^2 = ((75-80.16)^2 + (78-80.16)^2 + (82-80.16)^2 + (79-80.16)^2 + (81-80.16)^2 + (84-80.16)^2) / 5\n",
    "= 8.17\n",
    "\n",
    "Where 87.83 is the mean of sample A, and 80.16 is the mean of sample B.\n",
    "\n",
    "Now, we can calculate the F-statistic:\n",
    "\n",
    "F = s1^2 / s2^2 = 24.30 / 8.17 = 2.97\n",
    "\n",
    "Under the null hypothesis, the F-statistic follows an\n",
    "F-distribution with (n1-1) = 5 degrees of freedom in the \n",
    "numerator and (n2-1) = 5 degrees of freedom in the denominator.\n",
    "\n",
    "To determine whether the population variances are \n",
    "significantly different at a 1% significance level,\n",
    "we need to compare the calculated F-value with the \n",
    "critical value from the F-distribution table. \n",
    "The critical value is obtained from the F-distribution table \n",
    "with 5 degrees of freedom in the numerator and 5 degrees of freedom in the denominator, and a significance level of 1%.\n",
    "\n",
    "From the F-distribution table, we find that the critical value of F at a 1% significance level with 5 degrees of freedom in the numerator and 5 degrees of freedom in the denominator is 6.61.\n",
    "\n",
    "Since the calculated F-value (2.97) is less than the critical value of F (6.61), we fail to reject the null hypothesis. Therefore, we can conclude that there is not enough evidence to suggest that the population variances are significantly different at a 1% significance level.\n",
    "\n",
    "In other words, we cannot say for sure that the variances of the two populations are different based on the samples collected."
   ]
  }
 ],
 "metadata": {
  "kernelspec": {
   "display_name": "Python 3 (ipykernel)",
   "language": "python",
   "name": "python3"
  },
  "language_info": {
   "codemirror_mode": {
    "name": "ipython",
    "version": 3
   },
   "file_extension": ".py",
   "mimetype": "text/x-python",
   "name": "python",
   "nbconvert_exporter": "python",
   "pygments_lexer": "ipython3",
   "version": "3.10.8"
  }
 },
 "nbformat": 4,
 "nbformat_minor": 5
}
