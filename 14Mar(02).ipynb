{
 "cells": [
  {
   "cell_type": "code",
   "execution_count": 2,
   "id": "5588eb9b-a2e9-4cbc-8701-ff4525654797",
   "metadata": {},
   "outputs": [
    {
     "name": "stdout",
     "output_type": "stream",
     "text": [
      "Critical F-value (lower): 0.06877632746011886\n",
      "Critical F-value (upper): 5.415962339560236\n"
     ]
    }
   ],
   "source": [
    "from scipy.stats import f\n",
    "\n",
    "def critical_f_value(alpha, df1, df2):\n",
    "    return f.ppf(alpha / 2, df1, df2), f.ppf(1 - alpha / 2, df1, df2)\n",
    "\n",
    "# Example usage\n",
    "alpha = 0.05\n",
    "df1 = 3\n",
    "df2 = 8\n",
    "f_lower, f_upper = critical_f_value(alpha, df1, df2)\n",
    "print(\"Critical F-value (lower):\", f_lower)\n",
    "print(\"Critical F-value (upper):\", f_upper)\n"
   ]
  },
  {
   "cell_type": "code",
   "execution_count": null,
   "id": "028c369f-d8ee-43bb-a864-629b7c42ec74",
   "metadata": {},
   "outputs": [],
   "source": []
  }
 ],
 "metadata": {
  "kernelspec": {
   "display_name": "Python 3 (ipykernel)",
   "language": "python",
   "name": "python3"
  },
  "language_info": {
   "codemirror_mode": {
    "name": "ipython",
    "version": 3
   },
   "file_extension": ".py",
   "mimetype": "text/x-python",
   "name": "python",
   "nbconvert_exporter": "python",
   "pygments_lexer": "ipython3",
   "version": "3.10.8"
  }
 },
 "nbformat": 4,
 "nbformat_minor": 5
}
