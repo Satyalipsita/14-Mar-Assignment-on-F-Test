{
 "cells": [
  {
   "cell_type": "code",
   "execution_count": null,
   "id": "ef54cf4d-0620-462c-aff1-700a8a32e795",
   "metadata": {},
   "outputs": [],
   "source": [
    "To conduct an F-test to determine if the variances of two \n",
    "populations are equal or not, we need to compare the sample \n",
    "variances using an F-test. The null hypothesis for this F-test \n",
    "is that the population variances are equal, and the alternative \n",
    "hypothesis is that they are not equal.\n",
    "\n",
    "Let's denote the sample variances of sample\n",
    "A and B as s1^2 and s2^2, respectively. \n",
    "We need to calculate the F-statistic as:\n",
    "\n",
    "F = s1^2 / s2^2\n",
    "\n",
    "We are given the following samples:\n",
    "\n",
    "A: 24, 25, 28, 23, 22, 20, 27\n",
    "B: 31, 33, 35, 30, 32, 36\n",
    "\n",
    "We first need to calculate the sample variances:\n",
    "\n",
    "s1^2 = ((24-25.14)^2 + (25-25.14)^2 + (28-25.14)^2 + (23-25.14)^2 + (22-25.14)^2 + (20-25.14)^2 + (27-25.14)^2) / 6\n",
    "= 10.81\n",
    "\n",
    "s2^2 = ((31-32.83)^2 + (33-32.83)^2 + (35-32.83)^2 + (30-32.83)^2 + (32-32.83)^2 + (36-32.83)^2) / 5\n",
    "= 6.51\n",
    "\n",
    "Where 25.14 is the mean of sample A, and 32.83 is the mean of sample B.\n",
    "\n",
    "Now, we can calculate the F-statistic:\n",
    "\n",
    "F = s1^2 / s2^2 = 10.81 / 6.51 = 1.66\n",
    "\n",
    "Under the null hypothesis, the F-statistic follows \n",
    "an F-distribution with (n1-1) = 6 degrees of freedom \n",
    "in the numerator and (n2-1) = 5 degrees of freedom in the denominator.\n",
    "\n",
    "To determine whether the population variances are \n",
    "significantly different at a 5% significance level, \n",
    "we need to compare the calculated F-value with the \n",
    "critical value from the F-distribution table. The critical value is \n",
    "obtained from the F-distribution table with 6 degrees of freedom in \n",
    "the numerator and 5 degrees of freedom in the denominator, and a significance level of 5%.\n",
    "\n",
    "From the F-distribution table, we find that the critical value \n",
    "of F at a 5% significance level with 6 and 5 degrees of freedom is 4.03.\n",
    "\n",
    "Since the calculated F-value (1.66) is less than the critical \n",
    "value of F (4.03), we fail to reject the null hypothesis.\n",
    "Therefore, we can conclude that there is not enough evidence \n",
    "to suggest that the population variances are significantly different at a 5% significance level.\n",
    "\n",
    "In other words, we cannot say for sure that the variances of \n",
    "the two populations are different based on the samples collected."
   ]
  }
 ],
 "metadata": {
  "kernelspec": {
   "display_name": "Python 3 (ipykernel)",
   "language": "python",
   "name": "python3"
  },
  "language_info": {
   "codemirror_mode": {
    "name": "ipython",
    "version": 3
   },
   "file_extension": ".py",
   "mimetype": "text/x-python",
   "name": "python",
   "nbconvert_exporter": "python",
   "pygments_lexer": "ipython3",
   "version": "3.10.8"
  }
 },
 "nbformat": 4,
 "nbformat_minor": 5
}
